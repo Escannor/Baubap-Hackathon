{
 "cells": [
  {
   "cell_type": "markdown",
   "metadata": {},
   "source": [
    "Libraries"
   ]
  },
  {
   "cell_type": "code",
   "execution_count": 51,
   "metadata": {},
   "outputs": [],
   "source": [
    "from sklearn.model_selection import train_test_split, RandomizedSearchCV\n",
    "from sklearn.metrics import accuracy_score, matthews_corrcoef, f1_score, brier_score_loss\n",
    "\n",
    "import pandas as pd\n",
    "import numpy as np\n",
    "import joblib"
   ]
  },
  {
   "cell_type": "markdown",
   "metadata": {},
   "source": [
    "### Load training"
   ]
  },
  {
   "cell_type": "code",
   "execution_count": 52,
   "metadata": {},
   "outputs": [
    {
     "name": "stdout",
     "output_type": "stream",
     "text": [
      "(2563, 10) (2563,)\n"
     ]
    }
   ],
   "source": [
    "X = joblib.load('../data/X_training.joblib')\n",
    "y = joblib.load('../data/y_training.joblib')\n",
    "\n",
    "print(X.shape, y.shape)"
   ]
  },
  {
   "cell_type": "code",
   "execution_count": 55,
   "metadata": {},
   "outputs": [],
   "source": [
    "X_train, X_test, y_train, y_test = train_test_split(X, y, test_size=0.18, random_state=42, stratify=y)"
   ]
  },
  {
   "cell_type": "markdown",
   "metadata": {},
   "source": [
    "### Build Classification models"
   ]
  },
  {
   "cell_type": "markdown",
   "metadata": {},
   "source": [
    "K nearest neighbors"
   ]
  },
  {
   "cell_type": "code",
   "execution_count": 56,
   "metadata": {},
   "outputs": [
    {
     "name": "stdout",
     "output_type": "stream",
     "text": [
      "Best hyperparameters: {'weights': 'distance', 'n_neighbors': 13, 'metric': 'manhattan'}\n",
      "Model performance for Training set\n",
      "- Accuracy: 1.0\n",
      "- MCC: 1.0\n",
      "- F1 score: 1.0\n",
      "- Brier score: 0.0\n",
      "----------------------------------\n",
      "Model performance for Test set\n",
      "- Accuracy: 0.8917748917748918\n",
      "- MCC: 0.0\n",
      "- F1 score: 0.8407580215360535\n",
      "- Brier score: 0.10822510822510822\n"
     ]
    }
   ],
   "source": [
    "from sklearn.neighbors import KNeighborsClassifier\n",
    "\n",
    "param_dist = {\n",
    "    'n_neighbors': np.arange(1, 25),            # Number of neighbors\n",
    "    'weights': ['uniform', 'distance'],         # Weight options\n",
    "    'metric': ['euclidean', 'manhattan']        # Distance metric options\n",
    "}\n",
    "\n",
    "random_search = RandomizedSearchCV(KNeighborsClassifier(), param_distributions=param_dist, n_iter=10, cv=5, random_state=42)\n",
    "random_search.fit(X_train, y_train) # Train model\n",
    "\n",
    "knn = random_search.best_estimator_ \n",
    "print(\"Best hyperparameters:\", random_search.best_params_)\n",
    "\n",
    "# Make predictions\n",
    "y_train_pred = knn.predict(X_train)\n",
    "y_test_pred = knn.predict(X_test)\n",
    "\n",
    "# Training set performance\n",
    "knn_train_accuracy = accuracy_score(y_train, y_train_pred) # Calculate Accuracy\n",
    "knn_train_mcc = matthews_corrcoef(y_train, y_train_pred) # Calculate MCC\n",
    "knn_train_f1 = f1_score(y_train, y_train_pred, average='weighted') # Calculate F1-score\n",
    "knn_train_brier = brier_score_loss(y_train, y_train_pred) # Calculate Brier Score\n",
    "\n",
    "# Test set performance\n",
    "knn_test_accuracy = accuracy_score(y_test, y_test_pred) # Calculate Accuracy\n",
    "knn_test_mcc = matthews_corrcoef(y_test, y_test_pred) # Calculate MCC\n",
    "knn_test_f1 = f1_score(y_test, y_test_pred, average='weighted') # Calculate F1-score\n",
    "knn_test_brier = brier_score_loss(y_test, y_test_pred) # Calculate Brier Score\n",
    "\n",
    "print('Model performance for Training set')\n",
    "print('- Accuracy: %s' % knn_train_accuracy)\n",
    "print('- MCC: %s' % knn_train_mcc)\n",
    "print('- F1 score: %s' % knn_train_f1)\n",
    "print('- Brier score: %s' % knn_train_brier)\n",
    "print('----------------------------------')\n",
    "print('Model performance for Test set')\n",
    "print('- Accuracy: %s' % knn_test_accuracy)\n",
    "print('- MCC: %s' % knn_test_mcc)\n",
    "print('- F1 score: %s' % knn_test_f1)\n",
    "print('- Brier score: %s' % knn_test_brier)"
   ]
  },
  {
   "cell_type": "markdown",
   "metadata": {},
   "source": [
    "Support vector machine (Radial basis function kernel)\n"
   ]
  },
  {
   "cell_type": "code",
   "execution_count": 57,
   "metadata": {},
   "outputs": [
    {
     "name": "stdout",
     "output_type": "stream",
     "text": [
      "Best hyperparameters: {'kernel': 'rbf', 'gamma': 1000.0, 'C': 14.251026703029993}\n",
      "Model performance for Training set\n",
      "- Accuracy: 1.0\n",
      "- MCC: 1.0\n",
      "- F1 score: 1.0\n",
      "- Brier score: 0.0\n",
      "----------------------------------\n",
      "Model performance for Test set\n",
      "- Accuracy: 0.8917748917748918\n",
      "- MCC: 0.0\n",
      "- F1 score: 0.8407580215360535\n",
      "- Brier score: 0.10822510822510822\n"
     ]
    }
   ],
   "source": [
    "from sklearn.svm import SVC\n",
    "\n",
    "param_dist = {\n",
    "    'C': np.logspace(-3, 3, 14),            # Regularization parameter\n",
    "    'gamma': np.logspace(-3, 3, 14),         # Kernel coefficient for 'rbf'\n",
    "    'kernel': ['rbf']            # Kernel type  ['linear', 'rbf'] \n",
    "}\n",
    "\n",
    "random_search = RandomizedSearchCV(SVC(), param_distributions=param_dist, n_iter=10, cv=5, random_state=42)\n",
    "random_search.fit(X_train, y_train)\n",
    "\n",
    "svm_rbf = random_search.best_estimator_ \n",
    "print(\"Best hyperparameters:\", random_search.best_params_)\n",
    "\n",
    "# Make predictions\n",
    "y_train_pred = svm_rbf.predict(X_train)\n",
    "y_test_pred = svm_rbf.predict(X_test)\n",
    "\n",
    "# Training set performance\n",
    "svm_rbf_train_accuracy = accuracy_score(y_train, y_train_pred) # Calculate Accuracy\n",
    "svm_rbf_train_mcc = matthews_corrcoef(y_train, y_train_pred) # Calculate MCC\n",
    "svm_rbf_train_f1 = f1_score(y_train, y_train_pred, average='weighted') # Calculate F1-score\n",
    "svm_rbf_train_brier = brier_score_loss(y_train, y_train_pred) # Calculate Brier Score\n",
    "\n",
    "# Test set performance\n",
    "svm_rbf_test_accuracy = accuracy_score(y_test, y_test_pred) # Calculate Accuracy\n",
    "svm_rbf_test_mcc = matthews_corrcoef(y_test, y_test_pred) # Calculate MCC\n",
    "svm_rbf_test_f1 = f1_score(y_test, y_test_pred, average='weighted') # Calculate F1-score\n",
    "svm_rbf_test_brier = brier_score_loss(y_test, y_test_pred) # Calculate Brier Score\n",
    "\n",
    "print('Model performance for Training set')\n",
    "print('- Accuracy: %s' % svm_rbf_train_accuracy)\n",
    "print('- MCC: %s' % svm_rbf_train_mcc)\n",
    "print('- F1 score: %s' % svm_rbf_train_f1)\n",
    "print('- Brier score: %s' % svm_rbf_train_brier)\n",
    "print('----------------------------------')\n",
    "print('Model performance for Test set')\n",
    "print('- Accuracy: %s' % svm_rbf_test_accuracy)\n",
    "print('- MCC: %s' % svm_rbf_test_mcc)\n",
    "print('- F1 score: %s' % svm_rbf_test_f1)\n",
    "print('- Brier score: %s' % svm_rbf_test_brier)"
   ]
  },
  {
   "cell_type": "markdown",
   "metadata": {},
   "source": [
    "Decision tree"
   ]
  },
  {
   "cell_type": "code",
   "execution_count": 58,
   "metadata": {},
   "outputs": [
    {
     "name": "stdout",
     "output_type": "stream",
     "text": [
      "Best hyperparameters: {'splitter': 'random', 'min_samples_split': 3, 'min_samples_leaf': 9, 'max_features': None, 'max_depth': 17, 'criterion': 'gini'}\n",
      "Model performance for Training set\n",
      "- Accuracy: 0.8929081389814374\n",
      "- MCC: 0.16398705003135747\n",
      "- F1 score: 0.8534281599817568\n",
      "- Brier score: 0.10709186101856259\n",
      "----------------------------------\n",
      "Model performance for Test set\n",
      "- Accuracy: 0.8939393939393939\n",
      "- MCC: 0.13369437740973306\n",
      "- F1 score: 0.8459652110349501\n",
      "- Brier score: 0.10606060606060606\n"
     ]
    }
   ],
   "source": [
    "from sklearn.tree import DecisionTreeClassifier\n",
    "\n",
    "param_dist = {\n",
    "    'max_depth': np.arange(1, 25),            # Max depth of the tree\n",
    "    'min_samples_split': np.arange(2, 14),    # Minimum number of samples required to split an internal node\n",
    "    'min_samples_leaf': np.arange(1, 14),     # Minimum number of samples required to be in a leaf node\n",
    "    'criterion': ['gini', 'entropy'],         # Division criterion ('gini' or 'entropy')\n",
    "    'max_features': ['sqrt', 'log2', None],   # Maximum number of features considered to split a node ['auto', 'sqrt', 'log2', None]\n",
    "    'splitter': ['best', 'random']\n",
    "}\n",
    "\n",
    "random_search = RandomizedSearchCV(DecisionTreeClassifier(), param_distributions=param_dist, n_iter=10, cv=5, random_state=42)\n",
    "random_search.fit(X_train, y_train) # Train model\n",
    "\n",
    "dt = random_search.best_estimator_ \n",
    "print(\"Best hyperparameters:\", random_search.best_params_)\n",
    "\n",
    "# Make predictions\n",
    "y_train_pred = dt.predict(X_train)\n",
    "y_test_pred = dt.predict(X_test)\n",
    "\n",
    "# Training set performance\n",
    "dt_train_accuracy = accuracy_score(y_train, y_train_pred) # Calculate Accuracy\n",
    "dt_train_mcc = matthews_corrcoef(y_train, y_train_pred) # Calculate MCC\n",
    "dt_train_f1 = f1_score(y_train, y_train_pred, average='weighted') # Calculate F1-score\n",
    "dt_train_brier = brier_score_loss(y_train, y_train_pred) # Calculate Brier Score\n",
    "\n",
    "# Test set performance\n",
    "dt_test_accuracy = accuracy_score(y_test, y_test_pred) # Calculate Accuracy\n",
    "dt_test_mcc = matthews_corrcoef(y_test, y_test_pred) # Calculate MCC\n",
    "dt_test_f1 = f1_score(y_test, y_test_pred, average='weighted') # Calculate F1-score\n",
    "dt_test_brier = brier_score_loss(y_test, y_test_pred) # Calculate Brier Score\n",
    "\n",
    "print('Model performance for Training set')\n",
    "print('- Accuracy: %s' % dt_train_accuracy)\n",
    "print('- MCC: %s' % dt_train_mcc)\n",
    "print('- F1 score: %s' % dt_train_f1)\n",
    "print('- Brier score: %s' % dt_train_brier)\n",
    "print('----------------------------------')\n",
    "print('Model performance for Test set')\n",
    "print('- Accuracy: %s' % dt_test_accuracy)\n",
    "print('- MCC: %s' % dt_test_mcc)\n",
    "print('- F1 score: %s' % dt_test_f1)\n",
    "print('- Brier score: %s' % dt_test_brier)"
   ]
  },
  {
   "cell_type": "markdown",
   "metadata": {},
   "source": [
    "Random forest"
   ]
  },
  {
   "cell_type": "code",
   "execution_count": 59,
   "metadata": {},
   "outputs": [
    {
     "name": "stdout",
     "output_type": "stream",
     "text": [
      "Best hyperparameters: {'n_estimators': 40, 'min_samples_split': 9, 'min_samples_leaf': 7, 'max_features': 'log2', 'max_depth': 7}\n",
      "Model performance for Training set\n",
      "- Accuracy: 0.8938600666349358\n",
      "- MCC: 0.13998800623977403\n",
      "- F1 score: 0.8460495402028504\n",
      "- Brier score: 0.10613993336506425\n",
      "----------------------------------\n",
      "Model performance for Test set\n",
      "- Accuracy: 0.8917748917748918\n",
      "- MCC: 0.0\n",
      "- F1 score: 0.8407580215360535\n",
      "- Brier score: 0.10822510822510822\n"
     ]
    }
   ],
   "source": [
    "from sklearn.ensemble import RandomForestClassifier\n",
    "\n",
    "param_dist = {\n",
    "    'n_estimators': np.arange(10, 220, 10),          # Number of trees in the forest\n",
    "    'max_depth': np.arange(1, 21),                   # Maximum tree depth\n",
    "    'min_samples_split': np.arange(2, 11),           # Minimum number of samples required to split a node\n",
    "    'min_samples_leaf': np.arange(1, 11),            # Minimum number of samples required in a leaf node\n",
    "    'max_features': ['sqrt', 'log2', None]           # Maximum number of features considered to split a node ['auto', 'sqrt', 'log2', None]\n",
    "}\n",
    "\n",
    "random_search = RandomizedSearchCV(RandomForestClassifier(), param_distributions=param_dist, n_iter=10, cv=5, random_state=42)\n",
    "random_search.fit(X_train, y_train) # Train model\n",
    "\n",
    "rf = random_search.best_estimator_ \n",
    "print(\"Best hyperparameters:\", random_search.best_params_)\n",
    "\n",
    "# Make predictions\n",
    "y_train_pred = rf.predict(X_train)\n",
    "y_test_pred = rf.predict(X_test)\n",
    "\n",
    "# Training set performance\n",
    "rf_train_accuracy = accuracy_score(y_train, y_train_pred) # Calculate Accuracy\n",
    "rf_train_mcc = matthews_corrcoef(y_train, y_train_pred) # Calculate MCC\n",
    "rf_train_f1 = f1_score(y_train, y_train_pred, average='weighted') # Calculate F1-score\n",
    "rf_train_brier = brier_score_loss(y_train, y_train_pred) # Calculate Brier Score\n",
    "\n",
    "# Test set performance\n",
    "rf_test_accuracy = accuracy_score(y_test, y_test_pred) # Calculate Accuracy\n",
    "rf_test_mcc = matthews_corrcoef(y_test, y_test_pred) # Calculate MCC\n",
    "rf_test_f1 = f1_score(y_test, y_test_pred, average='weighted') # Calculate F1-score\n",
    "rf_test_brier = brier_score_loss(y_test, y_test_pred) # Calculate Brier Score\n",
    "\n",
    "print('Model performance for Training set')\n",
    "print('- Accuracy: %s' % rf_train_accuracy)\n",
    "print('- MCC: %s' % rf_train_mcc)\n",
    "print('- F1 score: %s' % rf_train_f1)\n",
    "print('- Brier score: %s' % rf_train_brier)\n",
    "print('----------------------------------')\n",
    "print('Model performance for Test set')\n",
    "print('- Accuracy: %s' % rf_test_accuracy)\n",
    "print('- MCC: %s' % rf_test_mcc)\n",
    "print('- F1 score: %s' % rf_test_f1)\n",
    "print('- Brier score: %s' % rf_test_brier)"
   ]
  },
  {
   "cell_type": "markdown",
   "metadata": {},
   "source": [
    "Neural network"
   ]
  },
  {
   "cell_type": "code",
   "execution_count": 60,
   "metadata": {},
   "outputs": [
    {
     "name": "stderr",
     "output_type": "stream",
     "text": [
      "c:\\Python311\\Lib\\site-packages\\sklearn\\neural_network\\_multilayer_perceptron.py:691: ConvergenceWarning: Stochastic Optimizer: Maximum iterations (100) reached and the optimization hasn't converged yet.\n",
      "  warnings.warn(\n",
      "c:\\Python311\\Lib\\site-packages\\sklearn\\neural_network\\_multilayer_perceptron.py:691: ConvergenceWarning: Stochastic Optimizer: Maximum iterations (100) reached and the optimization hasn't converged yet.\n",
      "  warnings.warn(\n",
      "c:\\Python311\\Lib\\site-packages\\sklearn\\neural_network\\_multilayer_perceptron.py:691: ConvergenceWarning: Stochastic Optimizer: Maximum iterations (100) reached and the optimization hasn't converged yet.\n",
      "  warnings.warn(\n",
      "c:\\Python311\\Lib\\site-packages\\sklearn\\neural_network\\_multilayer_perceptron.py:691: ConvergenceWarning: Stochastic Optimizer: Maximum iterations (100) reached and the optimization hasn't converged yet.\n",
      "  warnings.warn(\n",
      "c:\\Python311\\Lib\\site-packages\\sklearn\\neural_network\\_multilayer_perceptron.py:691: ConvergenceWarning: Stochastic Optimizer: Maximum iterations (100) reached and the optimization hasn't converged yet.\n",
      "  warnings.warn(\n",
      "c:\\Python311\\Lib\\site-packages\\sklearn\\neural_network\\_multilayer_perceptron.py:691: ConvergenceWarning: Stochastic Optimizer: Maximum iterations (500) reached and the optimization hasn't converged yet.\n",
      "  warnings.warn(\n",
      "c:\\Python311\\Lib\\site-packages\\sklearn\\neural_network\\_multilayer_perceptron.py:691: ConvergenceWarning: Stochastic Optimizer: Maximum iterations (500) reached and the optimization hasn't converged yet.\n",
      "  warnings.warn(\n",
      "c:\\Python311\\Lib\\site-packages\\sklearn\\neural_network\\_multilayer_perceptron.py:691: ConvergenceWarning: Stochastic Optimizer: Maximum iterations (500) reached and the optimization hasn't converged yet.\n",
      "  warnings.warn(\n",
      "c:\\Python311\\Lib\\site-packages\\sklearn\\neural_network\\_multilayer_perceptron.py:691: ConvergenceWarning: Stochastic Optimizer: Maximum iterations (500) reached and the optimization hasn't converged yet.\n",
      "  warnings.warn(\n",
      "c:\\Python311\\Lib\\site-packages\\sklearn\\neural_network\\_multilayer_perceptron.py:691: ConvergenceWarning: Stochastic Optimizer: Maximum iterations (100) reached and the optimization hasn't converged yet.\n",
      "  warnings.warn(\n",
      "c:\\Python311\\Lib\\site-packages\\sklearn\\neural_network\\_multilayer_perceptron.py:691: ConvergenceWarning: Stochastic Optimizer: Maximum iterations (100) reached and the optimization hasn't converged yet.\n",
      "  warnings.warn(\n",
      "c:\\Python311\\Lib\\site-packages\\sklearn\\neural_network\\_multilayer_perceptron.py:691: ConvergenceWarning: Stochastic Optimizer: Maximum iterations (100) reached and the optimization hasn't converged yet.\n",
      "  warnings.warn(\n",
      "c:\\Python311\\Lib\\site-packages\\sklearn\\neural_network\\_multilayer_perceptron.py:691: ConvergenceWarning: Stochastic Optimizer: Maximum iterations (100) reached and the optimization hasn't converged yet.\n",
      "  warnings.warn(\n",
      "c:\\Python311\\Lib\\site-packages\\sklearn\\neural_network\\_multilayer_perceptron.py:691: ConvergenceWarning: Stochastic Optimizer: Maximum iterations (100) reached and the optimization hasn't converged yet.\n",
      "  warnings.warn(\n",
      "c:\\Python311\\Lib\\site-packages\\sklearn\\neural_network\\_multilayer_perceptron.py:691: ConvergenceWarning: Stochastic Optimizer: Maximum iterations (300) reached and the optimization hasn't converged yet.\n",
      "  warnings.warn(\n",
      "c:\\Python311\\Lib\\site-packages\\sklearn\\neural_network\\_multilayer_perceptron.py:691: ConvergenceWarning: Stochastic Optimizer: Maximum iterations (300) reached and the optimization hasn't converged yet.\n",
      "  warnings.warn(\n",
      "c:\\Python311\\Lib\\site-packages\\sklearn\\neural_network\\_multilayer_perceptron.py:691: ConvergenceWarning: Stochastic Optimizer: Maximum iterations (300) reached and the optimization hasn't converged yet.\n",
      "  warnings.warn(\n",
      "c:\\Python311\\Lib\\site-packages\\sklearn\\neural_network\\_multilayer_perceptron.py:691: ConvergenceWarning: Stochastic Optimizer: Maximum iterations (300) reached and the optimization hasn't converged yet.\n",
      "  warnings.warn(\n",
      "c:\\Python311\\Lib\\site-packages\\sklearn\\neural_network\\_multilayer_perceptron.py:691: ConvergenceWarning: Stochastic Optimizer: Maximum iterations (300) reached and the optimization hasn't converged yet.\n",
      "  warnings.warn(\n"
     ]
    },
    {
     "name": "stdout",
     "output_type": "stream",
     "text": [
      "Best hyperparameters: {'max_iter': 700, 'learning_rate': 'invscaling', 'hidden_layer_sizes': (50,), 'alpha': 0.1, 'activation': 'logistic'}\n",
      "Model performance for Training set\n",
      "- Accuracy: 0.8919562113279391\n",
      "- MCC: 0.06254488780716103\n",
      "- F1 score: 0.84149270082697\n",
      "- Brier score: 0.10804378867206092\n",
      "----------------------------------\n",
      "Model performance for Test set\n",
      "- Accuracy: 0.8917748917748918\n",
      "- MCC: 0.0\n",
      "- F1 score: 0.8407580215360535\n",
      "- Brier score: 0.10822510822510822\n"
     ]
    }
   ],
   "source": [
    "from sklearn.neural_network import MLPClassifier\n",
    "\n",
    "param_dist = {\n",
    "    'hidden_layer_sizes': [(50,), (100,), (50, 50), (100, 100,), (100, 50, 25)],  # Hidden layer sizes\n",
    "    'activation': ['logistic', 'tanh', 'relu'],                          # Activation functions\n",
    "    'alpha': np.logspace(-5, 3, 9),                                      # L2 regularization term\n",
    "    'learning_rate': ['constant', 'invscaling', 'adaptive'],             # Learning rate\n",
    "    'max_iter': np.arange(100, 1401, 100)                                # Maximum number of iterations\n",
    "}\n",
    "\n",
    "random_search = RandomizedSearchCV(MLPClassifier(), param_distributions=param_dist, n_iter=10, cv=5, random_state=42)\n",
    "random_search.fit(X_train, y_train) # Train model\n",
    "\n",
    "mlp = random_search.best_estimator_ \n",
    "print(\"Best hyperparameters:\", random_search.best_params_)\n",
    "\n",
    "# Make predictions\n",
    "y_train_pred = mlp.predict(X_train)\n",
    "y_test_pred = mlp.predict(X_test)\n",
    "\n",
    "# Training set performance\n",
    "mlp_train_accuracy = accuracy_score(y_train, y_train_pred) # Calculate Accuracy\n",
    "mlp_train_mcc = matthews_corrcoef(y_train, y_train_pred) # Calculate MCC\n",
    "mlp_train_f1 = f1_score(y_train, y_train_pred, average='weighted') # Calculate F1-score\n",
    "mlp_train_brier = brier_score_loss(y_train, y_train_pred) # Calculate Brier Score\n",
    "\n",
    "# Test set performance\n",
    "mlp_test_accuracy = accuracy_score(y_test, y_test_pred) # Calculate Accuracy\n",
    "mlp_test_mcc = matthews_corrcoef(y_test, y_test_pred) # Calculate MCC\n",
    "mlp_test_f1 = f1_score(y_test, y_test_pred, average='weighted') # Calculate F1-score\n",
    "mlp_test_brier = brier_score_loss(y_test, y_test_pred) # Calculate Brier Score\n",
    "\n",
    "print('Model performance for Training set')\n",
    "print('- Accuracy: %s' % mlp_train_accuracy)\n",
    "print('- MCC: %s' % mlp_train_mcc)\n",
    "print('- F1 score: %s' % mlp_train_f1)\n",
    "print('- Brier score: %s' % mlp_train_brier)\n",
    "print('----------------------------------')\n",
    "print('Model performance for Test set')\n",
    "print('- Accuracy: %s' % mlp_test_accuracy)\n",
    "print('- MCC: %s' % mlp_test_mcc)\n",
    "print('- F1 score: %s' % mlp_test_f1)\n",
    "print('- Brier score: %s' % mlp_test_brier)"
   ]
  },
  {
   "cell_type": "markdown",
   "metadata": {},
   "source": [
    "XGBClassifier"
   ]
  },
  {
   "cell_type": "code",
   "execution_count": 61,
   "metadata": {},
   "outputs": [
    {
     "name": "stdout",
     "output_type": "stream",
     "text": [
      "Best hyperparameters: {'subsample': 1.0, 'n_estimators': 160, 'max_depth': 3, 'learning_rate': 0.1, 'gamma': 1, 'colsample_bytree': 0.9}\n",
      "Model performance for Training set\n",
      "- Accuracy: 0.8971918134221799\n",
      "- MCC: 0.21594032671081012\n",
      "- F1 score: 0.8545131991456252\n",
      "- Brier score: 0.10280818657782008\n",
      "----------------------------------\n",
      "Model performance for Test set\n",
      "- Accuracy: 0.8939393939393939\n",
      "- MCC: 0.13369437740973306\n",
      "- F1 score: 0.8459652110349501\n",
      "- Brier score: 0.10606060606060606\n"
     ]
    }
   ],
   "source": [
    "from xgboost import XGBClassifier\n",
    "\n",
    "param_dist = {\n",
    "    'n_estimators': np.arange(50, 200, 10),         # Number of trees\n",
    "    'learning_rate': [0.01, 0.1, 0.2, 0.3],         # Learning rate\n",
    "    'max_depth': np.arange(3, 10),                  # Maximum tree depth\n",
    "    'subsample': [0.8, 0.9, 1.0],                   # Proportion of samples used to train each tree\n",
    "    'colsample_bytree': [0.8, 0.9, 1.0],            # Proportion of features used to train each tree\n",
    "    'gamma': [0, 1, 2]                              # Regularization parameter to control tree complexity\n",
    "}\n",
    "\n",
    "random_search = RandomizedSearchCV(XGBClassifier(), param_distributions=param_dist, n_iter=10, cv=5, random_state=42)\n",
    "random_search.fit(X_train, y_train) # Train model\n",
    "\n",
    "xgbc = random_search.best_estimator_ \n",
    "print(\"Best hyperparameters:\", random_search.best_params_)\n",
    "\n",
    "# Make predictions\n",
    "y_train_pred = xgbc.predict(X_train)\n",
    "y_test_pred = xgbc.predict(X_test)\n",
    "\n",
    "# Training set performance\n",
    "xgbc_train_accuracy = accuracy_score(y_train, y_train_pred) # Calculate Accuracy\n",
    "xgbc_train_mcc = matthews_corrcoef(y_train, y_train_pred) # Calculate MCC\n",
    "xgbc_train_f1 = f1_score(y_train, y_train_pred, average='weighted') # Calculate F1-score\n",
    "xgbc_train_brier = brier_score_loss(y_train, y_train_pred) # Calculate Brier Score\n",
    "\n",
    "# Test set performance\n",
    "xgbc_test_accuracy = accuracy_score(y_test, y_test_pred) # Calculate Accuracy\n",
    "xgbc_test_mcc = matthews_corrcoef(y_test, y_test_pred) # Calculate MCC\n",
    "xgbc_test_f1 = f1_score(y_test, y_test_pred, average='weighted') # Calculate F1-score\n",
    "xgbc_test_brier = brier_score_loss(y_test, y_test_pred) # Calculate Brier Score\n",
    "\n",
    "print('Model performance for Training set')\n",
    "print('- Accuracy: %s' % xgbc_train_accuracy)\n",
    "print('- MCC: %s' % xgbc_train_mcc)\n",
    "print('- F1 score: %s' % xgbc_train_f1)\n",
    "print('- Brier score: %s' % xgbc_train_brier)\n",
    "print('----------------------------------')\n",
    "print('Model performance for Test set')\n",
    "print('- Accuracy: %s' % xgbc_test_accuracy)\n",
    "print('- MCC: %s' % xgbc_test_mcc)\n",
    "print('- F1 score: %s' % xgbc_test_f1)\n",
    "print('- Brier score: %s' % xgbc_test_brier)"
   ]
  },
  {
   "cell_type": "markdown",
   "metadata": {},
   "source": [
    "## Build Stacked model"
   ]
  },
  {
   "cell_type": "code",
   "execution_count": 62,
   "metadata": {},
   "outputs": [
    {
     "name": "stdout",
     "output_type": "stream",
     "text": [
      "Model performance for Training set\n",
      "- Accuracy: 0.8933841028081866\n",
      "- MCC: 0.12517922130012696\n",
      "- F1 score: 0.8449221629850129\n",
      "- Brier score: 0.10661589719181343\n",
      "----------------------------------\n",
      "Model performance for Test set\n",
      "- Accuracy: 0.8917748917748918\n",
      "- MCC: 0.0\n",
      "- F1 score: 0.8407580215360535\n",
      "- Brier score: 0.10661589719181343\n"
     ]
    }
   ],
   "source": [
    "# Define estimators\n",
    "from sklearn.ensemble import StackingClassifier\n",
    "from sklearn.linear_model import LogisticRegression\n",
    "\n",
    "estimator_list = [\n",
    "    ('knn',knn),\n",
    "    ('svm_rbf',svm_rbf),\n",
    "    ('dt',dt),\n",
    "    ('rf',rf),\n",
    "    ('mlp',mlp), \n",
    "    ('xgbc',xgbc) ]\n",
    "\n",
    "# Build stack model\n",
    "stack_model = StackingClassifier(\n",
    "    estimators=estimator_list, final_estimator=LogisticRegression()\n",
    ")\n",
    "\n",
    "# Train stacked model\n",
    "stack_model.fit(X_train, y_train)\n",
    "\n",
    "# Make predictions\n",
    "y_train_pred = stack_model.predict(X_train)\n",
    "y_test_pred = stack_model.predict(X_test)\n",
    "\n",
    "# Training set model performance\n",
    "stack_model_train_accuracy = accuracy_score(y_train, y_train_pred) # Calculate Accuracy\n",
    "stack_model_train_mcc = matthews_corrcoef(y_train, y_train_pred) # Calculate MCC\n",
    "stack_model_train_f1 = f1_score(y_train, y_train_pred, average='weighted') # Calculate F1-score\n",
    "stack_model_train_brier = brier_score_loss(y_train, y_train_pred) # Calculate Brier Score\n",
    "\n",
    "# Test set model performance\n",
    "stack_model_test_accuracy = accuracy_score(y_test, y_test_pred) # Calculate Accuracy\n",
    "stack_model_test_mcc = matthews_corrcoef(y_test, y_test_pred) # Calculate MCC\n",
    "stack_model_test_f1 = f1_score(y_test, y_test_pred, average='weighted') # Calculate F1-score\n",
    "stack_model_test_brier = brier_score_loss(y_train, y_train_pred) # Calculate Brier Score\n",
    "\n",
    "print('Model performance for Training set')\n",
    "print('- Accuracy: %s' % stack_model_train_accuracy)\n",
    "print('- MCC: %s' % stack_model_train_mcc)\n",
    "print('- F1 score: %s' % stack_model_train_f1)\n",
    "print('- Brier score: %s' % stack_model_train_brier)\n",
    "print('----------------------------------')\n",
    "print('Model performance for Test set')\n",
    "print('- Accuracy: %s' % stack_model_test_accuracy)\n",
    "print('- MCC: %s' % stack_model_test_mcc)\n",
    "print('- F1 score: %s' % stack_model_test_f1)\n",
    "print('- Brier score: %s' % stack_model_test_brier)"
   ]
  },
  {
   "cell_type": "markdown",
   "metadata": {},
   "source": [
    "## Results"
   ]
  },
  {
   "cell_type": "code",
   "execution_count": 63,
   "metadata": {},
   "outputs": [],
   "source": [
    "acc_train_list = {'knn':knn_train_accuracy,\n",
    "'svm_rbf': svm_rbf_train_accuracy,\n",
    "'dt': dt_train_accuracy,\n",
    "'rf': rf_train_accuracy,\n",
    "'mlp': mlp_train_accuracy,\n",
    "'xgbc': xgbc_train_accuracy,\n",
    "'stack': stack_model_train_accuracy}\n",
    "\n",
    "mcc_train_list = {'knn':knn_train_mcc,\n",
    "'svm_rbf': svm_rbf_train_mcc,\n",
    "'dt': dt_train_mcc,\n",
    "'rf': rf_train_mcc,\n",
    "'mlp': mlp_train_mcc,\n",
    "'xgbc': xgbc_train_mcc,\n",
    "'stack': stack_model_train_mcc}\n",
    "\n",
    "f1_train_list = {'knn':knn_train_f1,\n",
    "'svm_rbf': svm_rbf_train_f1,\n",
    "'dt': dt_train_f1,\n",
    "'rf': rf_train_f1,\n",
    "'mlp': mlp_train_f1,\n",
    "'xgbc': xgbc_train_f1,\n",
    "'stack': stack_model_train_f1}\n",
    "\n",
    "brier_train_list = {'knn':knn_train_brier,\n",
    "'svm_rbf': svm_rbf_train_brier,\n",
    "'dt': dt_train_brier,\n",
    "'rf': rf_train_brier,\n",
    "'mlp': mlp_train_brier,\n",
    "'xgbc': xgbc_train_brier,\n",
    "'stack': stack_model_train_brier}"
   ]
  },
  {
   "cell_type": "code",
   "execution_count": 64,
   "metadata": {},
   "outputs": [
    {
     "data": {
      "text/html": [
       "<div>\n",
       "<style scoped>\n",
       "    .dataframe tbody tr th:only-of-type {\n",
       "        vertical-align: middle;\n",
       "    }\n",
       "\n",
       "    .dataframe tbody tr th {\n",
       "        vertical-align: top;\n",
       "    }\n",
       "\n",
       "    .dataframe thead th {\n",
       "        text-align: right;\n",
       "    }\n",
       "</style>\n",
       "<table border=\"1\" class=\"dataframe\">\n",
       "  <thead>\n",
       "    <tr style=\"text-align: right;\">\n",
       "      <th></th>\n",
       "      <th>Accuracy</th>\n",
       "      <th>MCC</th>\n",
       "      <th>F1</th>\n",
       "      <th>Brier</th>\n",
       "    </tr>\n",
       "  </thead>\n",
       "  <tbody>\n",
       "    <tr>\n",
       "      <th>knn</th>\n",
       "      <td>1.000000</td>\n",
       "      <td>1.000000</td>\n",
       "      <td>1.000000</td>\n",
       "      <td>0.000000</td>\n",
       "    </tr>\n",
       "    <tr>\n",
       "      <th>svm_rbf</th>\n",
       "      <td>1.000000</td>\n",
       "      <td>1.000000</td>\n",
       "      <td>1.000000</td>\n",
       "      <td>0.000000</td>\n",
       "    </tr>\n",
       "    <tr>\n",
       "      <th>dt</th>\n",
       "      <td>0.892908</td>\n",
       "      <td>0.163987</td>\n",
       "      <td>0.853428</td>\n",
       "      <td>0.107092</td>\n",
       "    </tr>\n",
       "    <tr>\n",
       "      <th>rf</th>\n",
       "      <td>0.893860</td>\n",
       "      <td>0.139988</td>\n",
       "      <td>0.846050</td>\n",
       "      <td>0.106140</td>\n",
       "    </tr>\n",
       "    <tr>\n",
       "      <th>mlp</th>\n",
       "      <td>0.891956</td>\n",
       "      <td>0.062545</td>\n",
       "      <td>0.841493</td>\n",
       "      <td>0.108044</td>\n",
       "    </tr>\n",
       "    <tr>\n",
       "      <th>xgbc</th>\n",
       "      <td>0.897192</td>\n",
       "      <td>0.215940</td>\n",
       "      <td>0.854513</td>\n",
       "      <td>0.102808</td>\n",
       "    </tr>\n",
       "    <tr>\n",
       "      <th>stack</th>\n",
       "      <td>0.893384</td>\n",
       "      <td>0.125179</td>\n",
       "      <td>0.844922</td>\n",
       "      <td>0.106616</td>\n",
       "    </tr>\n",
       "  </tbody>\n",
       "</table>\n",
       "</div>"
      ],
      "text/plain": [
       "         Accuracy       MCC        F1     Brier\n",
       "knn      1.000000  1.000000  1.000000  0.000000\n",
       "svm_rbf  1.000000  1.000000  1.000000  0.000000\n",
       "dt       0.892908  0.163987  0.853428  0.107092\n",
       "rf       0.893860  0.139988  0.846050  0.106140\n",
       "mlp      0.891956  0.062545  0.841493  0.108044\n",
       "xgbc     0.897192  0.215940  0.854513  0.102808\n",
       "stack    0.893384  0.125179  0.844922  0.106616"
      ]
     },
     "execution_count": 64,
     "metadata": {},
     "output_type": "execute_result"
    }
   ],
   "source": [
    "acc_df = pd.DataFrame.from_dict(acc_train_list, orient='index', columns=['Accuracy'])\n",
    "mcc_df = pd.DataFrame.from_dict(mcc_train_list, orient='index', columns=['MCC'])\n",
    "f1_df = pd.DataFrame.from_dict(f1_train_list, orient='index', columns=['F1'])\n",
    "brier_df = pd.DataFrame.from_dict(brier_train_list, orient='index', columns=['Brier'])\n",
    "df = pd.concat([acc_df, mcc_df, f1_df, brier_df], axis=1)\n",
    "df"
   ]
  },
  {
   "cell_type": "code",
   "execution_count": null,
   "metadata": {},
   "outputs": [],
   "source": []
  },
  {
   "cell_type": "code",
   "execution_count": 65,
   "metadata": {},
   "outputs": [],
   "source": [
    "acc_test_list = {'knn':knn_test_accuracy,\n",
    "'svm_rbf': svm_rbf_test_accuracy,\n",
    "'dt': dt_test_accuracy,\n",
    "'rf': rf_test_accuracy,\n",
    "'mlp': mlp_test_accuracy,\n",
    "'xgbc': xgbc_test_accuracy,\n",
    "'stack': stack_model_test_accuracy}\n",
    "\n",
    "mcc_test_list = {'knn':knn_test_mcc,\n",
    "'svm_rbf': svm_rbf_test_mcc,\n",
    "'dt': dt_test_mcc,\n",
    "'rf': rf_test_mcc,\n",
    "'mlp': mlp_test_mcc,\n",
    "'xgbc': xgbc_test_mcc,\n",
    "'stack': stack_model_test_mcc}\n",
    "\n",
    "f1_test_list = {'knn':knn_test_f1,\n",
    "'svm_rbf': svm_rbf_test_f1,\n",
    "'dt': dt_test_f1,\n",
    "'rf': rf_test_f1,\n",
    "'mlp': mlp_test_f1,\n",
    "'xgbc': xgbc_test_f1,\n",
    "'stack': stack_model_test_f1}\n",
    "\n",
    "brier_test_list = {'knn':knn_test_brier,\n",
    "'svm_rbf': svm_rbf_test_brier,\n",
    "'dt': dt_test_brier,\n",
    "'rf': rf_test_brier,\n",
    "'mlp': mlp_test_brier,\n",
    "'xgbc': xgbc_test_brier,\n",
    "'stack': stack_model_test_brier}"
   ]
  },
  {
   "cell_type": "code",
   "execution_count": 66,
   "metadata": {},
   "outputs": [
    {
     "data": {
      "text/html": [
       "<div>\n",
       "<style scoped>\n",
       "    .dataframe tbody tr th:only-of-type {\n",
       "        vertical-align: middle;\n",
       "    }\n",
       "\n",
       "    .dataframe tbody tr th {\n",
       "        vertical-align: top;\n",
       "    }\n",
       "\n",
       "    .dataframe thead th {\n",
       "        text-align: right;\n",
       "    }\n",
       "</style>\n",
       "<table border=\"1\" class=\"dataframe\">\n",
       "  <thead>\n",
       "    <tr style=\"text-align: right;\">\n",
       "      <th></th>\n",
       "      <th>Accuracy</th>\n",
       "      <th>MCC</th>\n",
       "      <th>F1</th>\n",
       "      <th>Brier</th>\n",
       "    </tr>\n",
       "  </thead>\n",
       "  <tbody>\n",
       "    <tr>\n",
       "      <th>knn</th>\n",
       "      <td>0.891775</td>\n",
       "      <td>0.000000</td>\n",
       "      <td>0.840758</td>\n",
       "      <td>0.108225</td>\n",
       "    </tr>\n",
       "    <tr>\n",
       "      <th>svm_rbf</th>\n",
       "      <td>0.891775</td>\n",
       "      <td>0.000000</td>\n",
       "      <td>0.840758</td>\n",
       "      <td>0.108225</td>\n",
       "    </tr>\n",
       "    <tr>\n",
       "      <th>dt</th>\n",
       "      <td>0.893939</td>\n",
       "      <td>0.133694</td>\n",
       "      <td>0.845965</td>\n",
       "      <td>0.106061</td>\n",
       "    </tr>\n",
       "    <tr>\n",
       "      <th>rf</th>\n",
       "      <td>0.891775</td>\n",
       "      <td>0.000000</td>\n",
       "      <td>0.840758</td>\n",
       "      <td>0.108225</td>\n",
       "    </tr>\n",
       "    <tr>\n",
       "      <th>mlp</th>\n",
       "      <td>0.891775</td>\n",
       "      <td>0.000000</td>\n",
       "      <td>0.840758</td>\n",
       "      <td>0.108225</td>\n",
       "    </tr>\n",
       "    <tr>\n",
       "      <th>xgbc</th>\n",
       "      <td>0.893939</td>\n",
       "      <td>0.133694</td>\n",
       "      <td>0.845965</td>\n",
       "      <td>0.106061</td>\n",
       "    </tr>\n",
       "    <tr>\n",
       "      <th>stack</th>\n",
       "      <td>0.891775</td>\n",
       "      <td>0.000000</td>\n",
       "      <td>0.840758</td>\n",
       "      <td>0.106616</td>\n",
       "    </tr>\n",
       "  </tbody>\n",
       "</table>\n",
       "</div>"
      ],
      "text/plain": [
       "         Accuracy       MCC        F1     Brier\n",
       "knn      0.891775  0.000000  0.840758  0.108225\n",
       "svm_rbf  0.891775  0.000000  0.840758  0.108225\n",
       "dt       0.893939  0.133694  0.845965  0.106061\n",
       "rf       0.891775  0.000000  0.840758  0.108225\n",
       "mlp      0.891775  0.000000  0.840758  0.108225\n",
       "xgbc     0.893939  0.133694  0.845965  0.106061\n",
       "stack    0.891775  0.000000  0.840758  0.106616"
      ]
     },
     "execution_count": 66,
     "metadata": {},
     "output_type": "execute_result"
    }
   ],
   "source": [
    "acc_df = pd.DataFrame.from_dict(acc_test_list, orient='index', columns=['Accuracy'])\n",
    "mcc_df = pd.DataFrame.from_dict(mcc_test_list, orient='index', columns=['MCC'])\n",
    "f1_df = pd.DataFrame.from_dict(f1_test_list, orient='index', columns=['F1'])\n",
    "brier_df = pd.DataFrame.from_dict(brier_test_list, orient='index', columns=['Brier'])\n",
    "df = pd.concat([acc_df, mcc_df, f1_df, brier_df], axis=1)\n",
    "df"
   ]
  },
  {
   "cell_type": "code",
   "execution_count": null,
   "metadata": {},
   "outputs": [],
   "source": []
  },
  {
   "cell_type": "markdown",
   "metadata": {},
   "source": [
    "## Save model"
   ]
  },
  {
   "cell_type": "code",
   "execution_count": 67,
   "metadata": {},
   "outputs": [
    {
     "data": {
      "text/plain": [
       "['../models/stack_model.joblib']"
      ]
     },
     "execution_count": 67,
     "metadata": {},
     "output_type": "execute_result"
    }
   ],
   "source": [
    "import joblib\n",
    "\n",
    "# Guardar el modelo en un archivo\n",
    "joblib.dump(svm_rbf, '../models/svm_model.joblib')\n",
    "joblib.dump(xgbc, '../models/xgbc_model.joblib')\n",
    "joblib.dump(stack_model, '../models/stack_model.joblib')\n",
    "\n",
    "# Guardar listado de features para el modelo\n",
    "# joblib.dump(selected_columns, '../models/list_of_features.joblib')"
   ]
  },
  {
   "cell_type": "code",
   "execution_count": null,
   "metadata": {},
   "outputs": [],
   "source": []
  }
 ],
 "metadata": {
  "kernelspec": {
   "display_name": "Python 3",
   "language": "python",
   "name": "python3"
  },
  "language_info": {
   "codemirror_mode": {
    "name": "ipython",
    "version": 3
   },
   "file_extension": ".py",
   "mimetype": "text/x-python",
   "name": "python",
   "nbconvert_exporter": "python",
   "pygments_lexer": "ipython3",
   "version": "3.11.4"
  }
 },
 "nbformat": 4,
 "nbformat_minor": 2
}
