{
 "cells": [
  {
   "cell_type": "code",
   "execution_count": 1,
   "metadata": {},
   "outputs": [],
   "source": [
    "import pandas as pd\n",
    "import joblib"
   ]
  },
  {
   "cell_type": "code",
   "execution_count": 10,
   "metadata": {},
   "outputs": [],
   "source": [
    "# Cargar columnas significantes\n",
    "feature_list = joblib.load('../models/list_of_features.joblib')\n",
    "\n",
    "df = pd.read_csv('../data/data_validation3.csv')\n",
    "\n",
    "# Work with non-numeric features\n",
    "X_objects_features = df.select_dtypes(include=['object'])\n",
    "\n",
    "X_encoded = pd.get_dummies(X_objects_features)\n",
    "\n",
    "df = pd.concat([df.select_dtypes(exclude='object'), X_encoded], axis=1)\n",
    "\n",
    "# Create missing features\n",
    "for missing_feature in list(set(feature_list) - set(df.columns)):\n",
    "    df[missing_feature] = 0\n",
    "\n",
    "df = df[feature_list]\n"
   ]
  },
  {
   "cell_type": "code",
   "execution_count": null,
   "metadata": {},
   "outputs": [],
   "source": []
  }
 ],
 "metadata": {
  "kernelspec": {
   "display_name": "Python 3",
   "language": "python",
   "name": "python3"
  },
  "language_info": {
   "codemirror_mode": {
    "name": "ipython",
    "version": 3
   },
   "file_extension": ".py",
   "mimetype": "text/x-python",
   "name": "python",
   "nbconvert_exporter": "python",
   "pygments_lexer": "ipython3",
   "version": "3.11.4"
  }
 },
 "nbformat": 4,
 "nbformat_minor": 2
}
