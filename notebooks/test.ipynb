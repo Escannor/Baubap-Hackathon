{
 "cells": [
  {
   "cell_type": "code",
   "execution_count": 78,
   "metadata": {},
   "outputs": [],
   "source": [
    "from sklearn.impute import SimpleImputer\n",
    "import joblib\n",
    "import pandas as pd\n",
    "import numpy as np"
   ]
  },
  {
   "cell_type": "markdown",
   "metadata": {},
   "source": [
    "Globas variables"
   ]
  },
  {
   "cell_type": "code",
   "execution_count": 79,
   "metadata": {},
   "outputs": [],
   "source": [
    "checkpoint = '3'\n",
    "team = 'jojos'\n",
    "dataset_path = '../data/data_validation3.csv'"
   ]
  },
  {
   "cell_type": "markdown",
   "metadata": {},
   "source": [
    "Load model, features, scaler and pca"
   ]
  },
  {
   "cell_type": "code",
   "execution_count": 80,
   "metadata": {},
   "outputs": [],
   "source": [
    "# Load model\n",
    "loaded_model = joblib.load('../models/stack_model.joblib')\n",
    "\n",
    "# Load feature list\n",
    "feature_list = joblib.load('../models/list_of_features.joblib')\n",
    "\n",
    "# Load scaler\n",
    "scaler = joblib.load('../models/scaler.joblib')\n",
    "\n",
    "# Load pca\n",
    "pca = joblib.load('../models/pca.joblib')"
   ]
  },
  {
   "cell_type": "code",
   "execution_count": 81,
   "metadata": {},
   "outputs": [],
   "source": [
    "df = pd.read_csv(dataset_path)\n",
    "\n",
    "# Work with non-numeric features\n",
    "X_objects_features = df.select_dtypes(include=['object'])\n",
    "\n",
    "X_encoded = pd.get_dummies(X_objects_features)\n",
    "\n",
    "df = pd.concat([df.select_dtypes(exclude='object'), X_encoded], axis=1)\n",
    "\n",
    "# Create missing features\n",
    "missing_columns = list(set(feature_list) - set(df.columns))\n",
    "zeros_array = np.zeros((df.shape[0], len(missing_columns)))\n",
    "df_missing = pd.DataFrame(zeros_array, columns=missing_columns)\n",
    "df =pd.concat([df,  df_missing], axis=1)\n",
    "\n",
    "df = df[feature_list] # Only use feature_columns already worked"
   ]
  },
  {
   "cell_type": "code",
   "execution_count": 82,
   "metadata": {},
   "outputs": [],
   "source": [
    "# Crear un objeto SimpleImputer\n",
    "imputer = SimpleImputer(strategy='mean')  # Puedes cambiar 'mean' por 'median', 'most_frequent', o cualquier valor constante\n",
    "\n",
    "# Aplicar la imputación a todas las columnas\n",
    "df = pd.DataFrame(imputer.fit_transform(df), columns=df.columns)\n",
    "\n",
    "# Scaler\n",
    "df = scaler.transform(df)\n",
    "\n",
    "# PCA\n",
    "X = pca.transform(df)"
   ]
  },
  {
   "cell_type": "markdown",
   "metadata": {},
   "source": [
    "### Predict"
   ]
  },
  {
   "cell_type": "code",
   "execution_count": 83,
   "metadata": {},
   "outputs": [
    {
     "name": "stdout",
     "output_type": "stream",
     "text": [
      "len 100\n",
      "[0 0 0 0 0 0 0 0 0 0 0 0 0 0 0 0 0 0 0 0 0 0 0 0 0 0 0 0 0 0 0 0 0 0 0 0 0\n",
      " 0 0 0 0 0 0 0 0 0 0 0 0 0 0 0 0 0 0 0 0 0 0 0 0 0 0 0 0 0 0 0 0 0 0 0 0 0\n",
      " 0 0 0 0 0 0 0 0 0 0 0 0 0 0 0 0 0 0 0 0 0 0 0 0 0 0] [0.11628496 0.08543013 0.08135677 0.10144628 0.08681207 0.13589903\n",
      " 0.07851452 0.14177544 0.12735921 0.10217584 0.12001615 0.08777128\n",
      " 0.11824858 0.08818558 0.09982562 0.09002923 0.11832948 0.08657792\n",
      " 0.09197004 0.10069366 0.09062064 0.08978616 0.09174818 0.12277636\n",
      " 0.08450163 0.0801823  0.10342521 0.080668   0.0986873  0.11239793\n",
      " 0.12349816 0.08515238 0.1159308  0.09647849 0.11567986 0.12363545\n",
      " 0.10000259 0.10980886 0.07712408 0.22219797 0.1101055  0.09737491\n",
      " 0.12803866 0.09705728 0.09305326 0.11791059 0.18218589 0.1091636\n",
      " 0.09044404 0.08768975 0.0896582  0.13394765 0.08228093 0.09907189\n",
      " 0.11653375 0.08858359 0.1290477  0.08443513 0.09100593 0.10543146\n",
      " 0.09043659 0.13272848 0.31711814 0.10693151 0.13960749 0.10215011\n",
      " 0.08638391 0.08169304 0.07356435 0.08395629 0.10778996 0.21885401\n",
      " 0.10799961 0.09932851 0.08895941 0.08984281 0.07832121 0.1350395\n",
      " 0.09488054 0.10153654 0.09525259 0.18977711 0.07885149 0.10098612\n",
      " 0.10679535 0.12300786 0.09809818 0.07723841 0.10184061 0.08445642\n",
      " 0.11635445 0.14320247 0.10298476 0.13222001 0.16886525 0.24590363\n",
      " 0.08585237 0.09639175 0.0914946  0.10681534]\n"
     ]
    }
   ],
   "source": [
    "results = loaded_model.predict_proba(X)\n",
    "print('len', len(loaded_model.predict(X)))\n",
    "\n",
    "print(loaded_model.predict(X), results[:,1])"
   ]
  },
  {
   "cell_type": "markdown",
   "metadata": {},
   "source": [
    "### Save predictions"
   ]
  },
  {
   "cell_type": "code",
   "execution_count": 84,
   "metadata": {},
   "outputs": [
    {
     "data": {
      "text/html": [
       "<div>\n",
       "<style scoped>\n",
       "    .dataframe tbody tr th:only-of-type {\n",
       "        vertical-align: middle;\n",
       "    }\n",
       "\n",
       "    .dataframe tbody tr th {\n",
       "        vertical-align: top;\n",
       "    }\n",
       "\n",
       "    .dataframe thead th {\n",
       "        text-align: right;\n",
       "    }\n",
       "</style>\n",
       "<table border=\"1\" class=\"dataframe\">\n",
       "  <thead>\n",
       "    <tr style=\"text-align: right;\">\n",
       "      <th></th>\n",
       "      <th>predicciones</th>\n",
       "    </tr>\n",
       "  </thead>\n",
       "  <tbody>\n",
       "    <tr>\n",
       "      <th>0</th>\n",
       "      <td>0.116285</td>\n",
       "    </tr>\n",
       "    <tr>\n",
       "      <th>1</th>\n",
       "      <td>0.085430</td>\n",
       "    </tr>\n",
       "    <tr>\n",
       "      <th>2</th>\n",
       "      <td>0.081357</td>\n",
       "    </tr>\n",
       "    <tr>\n",
       "      <th>3</th>\n",
       "      <td>0.101446</td>\n",
       "    </tr>\n",
       "    <tr>\n",
       "      <th>4</th>\n",
       "      <td>0.086812</td>\n",
       "    </tr>\n",
       "  </tbody>\n",
       "</table>\n",
       "</div>"
      ],
      "text/plain": [
       "   predicciones\n",
       "0      0.116285\n",
       "1      0.085430\n",
       "2      0.081357\n",
       "3      0.101446\n",
       "4      0.086812"
      ]
     },
     "metadata": {},
     "output_type": "display_data"
    }
   ],
   "source": [
    "df_results = pd.DataFrame(results[:,1], columns=['predicciones'])\n",
    "display(df_results.head())\n",
    "df_results.to_parquet(f'../results/checkpoint{checkpoint}_{team}.parquet')"
   ]
  },
  {
   "cell_type": "code",
   "execution_count": null,
   "metadata": {},
   "outputs": [],
   "source": []
  }
 ],
 "metadata": {
  "kernelspec": {
   "display_name": "Python 3",
   "language": "python",
   "name": "python3"
  },
  "language_info": {
   "codemirror_mode": {
    "name": "ipython",
    "version": 3
   },
   "file_extension": ".py",
   "mimetype": "text/x-python",
   "name": "python",
   "nbconvert_exporter": "python",
   "pygments_lexer": "ipython3",
   "version": "3.11.4"
  }
 },
 "nbformat": 4,
 "nbformat_minor": 2
}
