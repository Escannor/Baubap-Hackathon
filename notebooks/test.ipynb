{
 "cells": [
  {
   "cell_type": "code",
   "execution_count": 27,
   "metadata": {},
   "outputs": [],
   "source": [
    "import joblib\n",
    "import pandas as pd"
   ]
  },
  {
   "cell_type": "code",
   "execution_count": 28,
   "metadata": {},
   "outputs": [],
   "source": [
    "# Cargar el modelo desde el archivo\n",
    "loaded_model = joblib.load('../models/stack_model.joblib')\n",
    "\n",
    "# Cargar columnas significantes\n",
    "feature_list = joblib.load('../models/list_of_features.joblib')"
   ]
  },
  {
   "cell_type": "code",
   "execution_count": 29,
   "metadata": {},
   "outputs": [
    {
     "data": {
      "text/plain": [
       "(100, 548)"
      ]
     },
     "execution_count": 29,
     "metadata": {},
     "output_type": "execute_result"
    }
   ],
   "source": [
    "# Cargar los datos\n",
    "df = pd.read_csv('../data/cap_data_validation1.csv')\n",
    "df.shape"
   ]
  },
  {
   "cell_type": "code",
   "execution_count": 30,
   "metadata": {},
   "outputs": [
    {
     "data": {
      "text/plain": [
       "(100, 39)"
      ]
     },
     "execution_count": 30,
     "metadata": {},
     "output_type": "execute_result"
    }
   ],
   "source": [
    "# Seleccionar solo las columnas importantes\n",
    "df = df[feature_list]\n",
    "df.shape"
   ]
  },
  {
   "cell_type": "code",
   "execution_count": 31,
   "metadata": {},
   "outputs": [],
   "source": [
    "from sklearn.impute import SimpleImputer\n",
    "\n",
    "# Crear un objeto SimpleImputer\n",
    "imputer = SimpleImputer(strategy='mean')  # Puedes cambiar 'mean' por 'median', 'most_frequent', o cualquier valor constante\n",
    "\n",
    "# Aplicar la imputación a todas las columnas\n",
    "df = pd.DataFrame(imputer.fit_transform(df), columns=df.columns)\n",
    "\n",
    "# Imprimir el DataFrame resultante con valores imputados\n",
    "# print(X)"
   ]
  },
  {
   "cell_type": "code",
   "execution_count": 32,
   "metadata": {},
   "outputs": [
    {
     "data": {
      "text/plain": [
       "array([[1.    , 0.    , 0.75  , ..., 1.    , 0.    , 0.    ],\n",
       "       [0.875 , 0.5   , 0.9   , ..., 1.    , 0.3333, 1.    ],\n",
       "       [1.    , 0.    , 0.75  , ..., 0.    , 0.    , 0.    ],\n",
       "       ...,\n",
       "       [0.    , 0.875 , 0.    , ..., 0.    , 0.    , 0.    ],\n",
       "       [1.    , 0.    , 0.8846, ..., 0.    , 0.    , 0.    ],\n",
       "       [0.5   , 0.    , 0.5   , ..., 1.    , 1.    , 1.    ]])"
      ]
     },
     "execution_count": 32,
     "metadata": {},
     "output_type": "execute_result"
    }
   ],
   "source": [
    "X = df.values\n",
    "X"
   ]
  },
  {
   "cell_type": "code",
   "execution_count": 33,
   "metadata": {},
   "outputs": [
    {
     "data": {
      "text/plain": [
       "array([0.10034507, 0.12219449, 0.10960488, 0.10905992, 0.09822042,\n",
       "       0.11068369, 0.1104404 , 0.10898503, 0.1124679 , 0.10300712,\n",
       "       0.11177385, 0.11082541, 0.10892521, 0.11014521, 0.1080511 ,\n",
       "       0.10919564, 0.10816349, 0.10880745, 0.1147292 , 0.10875624,\n",
       "       0.10692889, 0.10980993, 0.10128087, 0.10259089, 0.11032454,\n",
       "       0.11795861, 0.10683432, 0.09884119, 0.10070733, 0.1109445 ,\n",
       "       0.10976516, 0.11210848, 0.11090259, 0.11171619, 0.11018619,\n",
       "       0.11688303, 0.09881559, 0.10813657, 0.10456568, 0.11593608,\n",
       "       0.10478678, 0.11860942, 0.10850342, 0.11300947, 0.09599026,\n",
       "       0.11274301, 0.10132747, 0.11903244, 0.10616978, 0.11345389,\n",
       "       0.1015417 , 0.10403029, 0.11854813, 0.1013798 , 0.11627351,\n",
       "       0.10872669, 0.11369272, 0.09678341, 0.10718588, 0.12088515,\n",
       "       0.10735901, 0.11049519, 0.10955826, 0.10134963, 0.13857736,\n",
       "       0.11149435, 0.10907582, 0.1098803 , 0.10804299, 0.09482092,\n",
       "       0.0991489 , 0.09184734, 0.1085743 , 0.11009875, 0.11049223,\n",
       "       0.10718202, 0.11064141, 0.10734058, 0.10850564, 0.10736243,\n",
       "       0.10004345, 0.11521058, 0.1008942 , 0.10230592, 0.12468098,\n",
       "       0.10761048, 0.11327836, 0.11161545, 0.11555612, 0.11059718,\n",
       "       0.11209316, 0.09929267, 0.1079634 , 0.108996  , 0.10787285,\n",
       "       0.10695846, 0.1025241 , 0.1080463 , 0.09899564, 0.1079373 ])"
      ]
     },
     "execution_count": 33,
     "metadata": {},
     "output_type": "execute_result"
    }
   ],
   "source": [
    "results = loaded_model.predict_proba(X)\n",
    "print('len', len(loaded_model.predict(X)))\n",
    "\n",
    "print(loaded_model.predict(X), results[:,1])"
   ]
  },
  {
   "cell_type": "code",
   "execution_count": 34,
   "metadata": {},
   "outputs": [
    {
     "data": {
      "text/html": [
       "<div>\n",
       "<style scoped>\n",
       "    .dataframe tbody tr th:only-of-type {\n",
       "        vertical-align: middle;\n",
       "    }\n",
       "\n",
       "    .dataframe tbody tr th {\n",
       "        vertical-align: top;\n",
       "    }\n",
       "\n",
       "    .dataframe thead th {\n",
       "        text-align: right;\n",
       "    }\n",
       "</style>\n",
       "<table border=\"1\" class=\"dataframe\">\n",
       "  <thead>\n",
       "    <tr style=\"text-align: right;\">\n",
       "      <th></th>\n",
       "      <th>predicciones</th>\n",
       "    </tr>\n",
       "  </thead>\n",
       "  <tbody>\n",
       "    <tr>\n",
       "      <th>0</th>\n",
       "      <td>0.100345</td>\n",
       "    </tr>\n",
       "    <tr>\n",
       "      <th>1</th>\n",
       "      <td>0.122194</td>\n",
       "    </tr>\n",
       "    <tr>\n",
       "      <th>2</th>\n",
       "      <td>0.109605</td>\n",
       "    </tr>\n",
       "    <tr>\n",
       "      <th>3</th>\n",
       "      <td>0.109060</td>\n",
       "    </tr>\n",
       "    <tr>\n",
       "      <th>4</th>\n",
       "      <td>0.098220</td>\n",
       "    </tr>\n",
       "  </tbody>\n",
       "</table>\n",
       "</div>"
      ],
      "text/plain": [
       "   predicciones\n",
       "0      0.100345\n",
       "1      0.122194\n",
       "2      0.109605\n",
       "3      0.109060\n",
       "4      0.098220"
      ]
     },
     "metadata": {},
     "output_type": "display_data"
    }
   ],
   "source": [
    "df_results = pd.DataFrame(results[:,1], columns=['predicciones'])\n",
    "display(df_results.head())\n",
    "df_results.to_parquet('../results/results1.parquet')"
   ]
  },
  {
   "cell_type": "code",
   "execution_count": null,
   "metadata": {},
   "outputs": [],
   "source": []
  }
 ],
 "metadata": {
  "kernelspec": {
   "display_name": "Python 3",
   "language": "python",
   "name": "python3"
  },
  "language_info": {
   "codemirror_mode": {
    "name": "ipython",
    "version": 3
   },
   "file_extension": ".py",
   "mimetype": "text/x-python",
   "name": "python",
   "nbconvert_exporter": "python",
   "pygments_lexer": "ipython3",
   "version": "3.10.10"
  }
 },
 "nbformat": 4,
 "nbformat_minor": 2
}
