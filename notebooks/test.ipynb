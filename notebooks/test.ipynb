{
 "cells": [
  {
   "cell_type": "code",
   "execution_count": 1,
   "metadata": {},
   "outputs": [],
   "source": [
    "from sklearn.impute import SimpleImputer\n",
    "import joblib\n",
    "import pandas as pd"
   ]
  },
  {
   "cell_type": "code",
   "execution_count": 2,
   "metadata": {},
   "outputs": [],
   "source": [
    "# Cargar el modelo desde el archivo\n",
    "loaded_model = joblib.load('../models/stack_model.joblib')"
   ]
  },
  {
   "cell_type": "code",
   "execution_count": 24,
   "metadata": {},
   "outputs": [],
   "source": [
    "# Cargar columnas significantes\n",
    "feature_list = joblib.load('../models/list_of_features.joblib')\n",
    "\n",
    "df = pd.read_csv('../data/data_validation3.csv')\n",
    "\n",
    "# Work with non-numeric features\n",
    "X_objects_features = df.select_dtypes(include=['object'])\n",
    "\n",
    "X_encoded = pd.get_dummies(X_objects_features)\n",
    "\n",
    "df = pd.concat([df.select_dtypes(exclude='object'), X_encoded], axis=1)\n",
    "\n",
    "# Create missing features\n",
    "for missing_feature in list(set(feature_list) - set(df.columns)):\n",
    "    df[missing_feature] = 0\n",
    "\n",
    "df = df[feature_list]"
   ]
  },
  {
   "cell_type": "code",
   "execution_count": 25,
   "metadata": {},
   "outputs": [],
   "source": [
    "# Crear un objeto SimpleImputer\n",
    "imputer = SimpleImputer(strategy='mean')  # Puedes cambiar 'mean' por 'median', 'most_frequent', o cualquier valor constante\n",
    "\n",
    "# Aplicar la imputación a todas las columnas\n",
    "df = pd.DataFrame(imputer.fit_transform(df), columns=df.columns)"
   ]
  },
  {
   "cell_type": "code",
   "execution_count": 26,
   "metadata": {},
   "outputs": [],
   "source": [
    "df.shape\n",
    "\n",
    "X = df.values"
   ]
  },
  {
   "cell_type": "code",
   "execution_count": 27,
   "metadata": {},
   "outputs": [
    {
     "name": "stdout",
     "output_type": "stream",
     "text": [
      "len 100\n",
      "[0 0 0 0 0 0 0 0 0 0 0 0 0 0 0 0 0 0 0 0 0 0 0 0 0 0 0 0 0 0 0 0 0 0 0 0 0\n",
      " 0 0 0 0 0 0 0 0 0 0 0 0 0 0 0 0 0 0 0 0 0 0 0 0 0 0 0 0 0 0 0 0 0 0 0 0 0\n",
      " 0 0 0 0 0 0 0 0 0 0 0 0 0 0 0 0 0 0 0 0 0 0 0 0 0 0] [0.09086057 0.10011423 0.09820254 0.1225494  0.11156107 0.0833507\n",
      " 0.11298396 0.10804603 0.10579937 0.09618792 0.09313093 0.10631769\n",
      " 0.12650065 0.13929211 0.10374196 0.12993111 0.10480401 0.10123575\n",
      " 0.09567018 0.1026624  0.08768285 0.1181417  0.10966623 0.09220912\n",
      " 0.09757375 0.08300592 0.11004739 0.08802763 0.10260015 0.13692183\n",
      " 0.08415077 0.09864719 0.12195345 0.08826432 0.11044912 0.10212584\n",
      " 0.10800303 0.09891056 0.09494902 0.14095397 0.08949474 0.08199275\n",
      " 0.10935015 0.09469554 0.09983473 0.14396119 0.0910452  0.23974236\n",
      " 0.09358139 0.12327166 0.13538866 0.10196573 0.08818801 0.09284457\n",
      " 0.14009664 0.09688122 0.1148446  0.09634792 0.09068617 0.09586879\n",
      " 0.09394034 0.1206426  0.21788981 0.09891857 0.11953566 0.10981328\n",
      " 0.10354662 0.11812894 0.08483392 0.10711787 0.11895796 0.10352802\n",
      " 0.091375   0.12194514 0.14535513 0.11096362 0.08938624 0.21845454\n",
      " 0.09149651 0.10093352 0.11698173 0.16047983 0.17034323 0.10085083\n",
      " 0.0990976  0.10302174 0.10994582 0.10944629 0.11195901 0.08568523\n",
      " 0.1476019  0.12523984 0.11658719 0.18011786 0.14355984 0.12045561\n",
      " 0.12150177 0.09600048 0.14661239 0.09569356]\n"
     ]
    }
   ],
   "source": [
    "results = loaded_model.predict_proba(X)\n",
    "print('len', len(loaded_model.predict(X)))\n",
    "\n",
    "print(loaded_model.predict(X), results[:,1])"
   ]
  },
  {
   "cell_type": "code",
   "execution_count": 28,
   "metadata": {},
   "outputs": [
    {
     "data": {
      "text/html": [
       "<div>\n",
       "<style scoped>\n",
       "    .dataframe tbody tr th:only-of-type {\n",
       "        vertical-align: middle;\n",
       "    }\n",
       "\n",
       "    .dataframe tbody tr th {\n",
       "        vertical-align: top;\n",
       "    }\n",
       "\n",
       "    .dataframe thead th {\n",
       "        text-align: right;\n",
       "    }\n",
       "</style>\n",
       "<table border=\"1\" class=\"dataframe\">\n",
       "  <thead>\n",
       "    <tr style=\"text-align: right;\">\n",
       "      <th></th>\n",
       "      <th>predicciones</th>\n",
       "    </tr>\n",
       "  </thead>\n",
       "  <tbody>\n",
       "    <tr>\n",
       "      <th>0</th>\n",
       "      <td>0.090861</td>\n",
       "    </tr>\n",
       "    <tr>\n",
       "      <th>1</th>\n",
       "      <td>0.100114</td>\n",
       "    </tr>\n",
       "    <tr>\n",
       "      <th>2</th>\n",
       "      <td>0.098203</td>\n",
       "    </tr>\n",
       "    <tr>\n",
       "      <th>3</th>\n",
       "      <td>0.122549</td>\n",
       "    </tr>\n",
       "    <tr>\n",
       "      <th>4</th>\n",
       "      <td>0.111561</td>\n",
       "    </tr>\n",
       "  </tbody>\n",
       "</table>\n",
       "</div>"
      ],
      "text/plain": [
       "   predicciones\n",
       "0      0.090861\n",
       "1      0.100114\n",
       "2      0.098203\n",
       "3      0.122549\n",
       "4      0.111561"
      ]
     },
     "metadata": {},
     "output_type": "display_data"
    }
   ],
   "source": [
    "df_results = pd.DataFrame(results[:,1], columns=['predicciones'])\n",
    "display(df_results.head())\n",
    "df_results.to_parquet(f'../results/checkpoint{\"3\"}_{\"jojos\"}.parquet')"
   ]
  },
  {
   "cell_type": "code",
   "execution_count": null,
   "metadata": {},
   "outputs": [],
   "source": []
  }
 ],
 "metadata": {
  "kernelspec": {
   "display_name": "Python 3",
   "language": "python",
   "name": "python3"
  },
  "language_info": {
   "codemirror_mode": {
    "name": "ipython",
    "version": 3
   },
   "file_extension": ".py",
   "mimetype": "text/x-python",
   "name": "python",
   "nbconvert_exporter": "python",
   "pygments_lexer": "ipython3",
   "version": "3.11.4"
  }
 },
 "nbformat": 4,
 "nbformat_minor": 2
}
